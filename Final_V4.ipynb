{
 "cells": [
  {
   "cell_type": "markdown",
   "metadata": {},
   "source": [
    "# COGS 108 - Final Project "
   ]
  },
  {
   "cell_type": "markdown",
   "metadata": {},
   "source": [
    "# Overview"
   ]
  },
  {
   "cell_type": "markdown",
   "metadata": {},
   "source": [
    "*Fill in your overview here*"
   ]
  },
  {
   "cell_type": "markdown",
   "metadata": {},
   "source": [
    "# Names\n",
    "\n",
    "- Diana Chong\n",
    "- Skylar Hom\n",
    "- Tricia Pham\n",
    "- Sofia Sanchez\n",
    "- Emily Tam"
   ]
  },
  {
   "cell_type": "markdown",
   "metadata": {},
   "source": [
    "# Group Members IDs\n",
    "\n",
    "- A14627769\n",
    "- A13022643\n",
    "- A14107552\n",
    "- A92130382\n",
    "- A14873136"
   ]
  },
  {
   "cell_type": "markdown",
   "metadata": {},
   "source": [
    "# Research Question"
   ]
  },
  {
   "cell_type": "markdown",
   "metadata": {},
   "source": [
    "Are mobile iOS application prices correlated with user ratings?"
   ]
  },
  {
   "cell_type": "markdown",
   "metadata": {},
   "source": [
    "## Background and Prior Work"
   ]
  },
  {
   "cell_type": "markdown",
   "metadata": {},
   "source": [
    "Mobile technology has revolutionized how much of the world functions. It has the fastest growth of any technology in history (West, 2015). The speed of information that can be transferred across the globe has astronomically increased. Furthermore, the use of mobile technology has changed the relationship between businesses and consumers (West, 2015). The market for mobile devices, such as smartphones and tablets, has grown in tandem. A study conducted by the Pew Research Center concluded that around 90% of Americans currently have some form of mobile device (West, 2015). One primary component of mobile devices are the applications that are on the phone. They appear as bubble icons on the device’s display that are loaded by tapping on them. Application use is the primary way that users interact with their phones. A few applications are preloaded onto the phone. However, a significant number of applications must be downloaded from a host. For Apple phones, the Apple Store supplies nearly all of the applications that users can choose to download.\n",
    "\n",
    "Upon the opening of the Apple Store, an “app economy” bloomed. The app economy is the development, marketing, and consumption of mobile applications (Dyer-Witheford, 2014). A significant portion of the software development field is dedicated towards the creation and maintenance of mobile applications (Dyer-Witheford, 2014). Due to the sheer scale of mobile applications, it is crucial for both companies and consumers to understand current trends in the app market. There is a huge spread of variability within the application market -- the type of application, such as social apps, games, or services; the price of the application; the company behind the development of the application; and the services that the application provides. Also, there are demographic trends for users of certain apps, such as age and gender, and statistical trends for products, like user ratings.  \n",
    "\n",
    "On the company's end, the pricing of apps is mainly driven by a desired end result. Whether a group is striving for user numbers or aiming to make large profits determines if an application is free or paid. However, these desired goals are balanced by what customers are willing to pay for the product which is influenced by perceived quality and level of necessity. If customer reviews are in favor of the product and listed features align with user needs, people are more likely to see it as worthwhile. Since there are an abundant number of free iOS apps, choosing to not make an application free automatically raises the users’ expectations that what they are paying for will be worth the extra dollars that another product may not be asking for. It is up to a company to ensure their app fulfills expectations which goes on to affect if an individual is willing to pay for something they have not been able to even use yet.\n",
    "\n",
    "User ratings are quite subjective and they encompass a variety of user profiles that conjunctively measure if the quality of a product is worth its monetary value. Ratings can be generally higher for paid apps as customers believe they are getting more and quality matches up to a price point. However, ratings can also be lower as high expectations can exceed what the app provides. General trends of iOS app ratings in relation to prices are largely influenced by the level of uncertainty users have when searching for a tool (Song, Kim, Jones, Baker, & Chin, 2014). This uncertainty, ranging from knowing exactly what is expected from the company’s products to needing an application as a first resource, influences expectations and demands which is reflected upon user app ratings. \n",
    "\n",
    "\n",
    "\n",
    "\n",
    "References (include links):\n",
    "- 1) Dyer-Witheford, N. (2014). App Worker. In Miller P. & Matviyenko S. (Eds.), The Imaginary App (pp. 127-142). \n",
    "MIT Press. Retrieved from http://www.jstor.org/stable/j.ctt9qf91w.16\n",
    "- 2) Song, J., Kim, J., Jones, D. R., Baker, J., Chin, W. W. (2014). Application discoverability and user satisfaction in mobile application stores: An environmental psychology perspective. Elsevier, 59, 37-51. Doi: https://doi.org/10.1016/j.dss.2013.10.004\n",
    "- 3)West, D. (2015). MOBILE TECHNOLOGY. In Going Mobile: How Wireless Technology is Reshaping Our Lives \n",
    "(pp. 1-15). Brookings Institution Press. Retrieved from http://www.jstor.org/stable/10.7864/j.ctt7zsvqt.4\n"
   ]
  },
  {
   "cell_type": "markdown",
   "metadata": {},
   "source": [
    "# Hypothesis\n"
   ]
  },
  {
   "cell_type": "markdown",
   "metadata": {},
   "source": [
    "Null Hypothesis: There is no relationship between iOS app prices and user ratings.\n",
    "\n",
    "Alternative Hypothesis: There is a change in user ratings when iOS app prices change. "
   ]
  },
  {
   "cell_type": "markdown",
   "metadata": {},
   "source": [
    "# Dataset(s)"
   ]
  },
  {
   "cell_type": "markdown",
   "metadata": {},
   "source": [
    "Mobile App Statistics (Apple iOS app store) dataset\n",
    "https://www.kaggle.com/ramamet4/app-store-apple-data-set-10k-apps#appleStore_description.csv\n",
    "(7197 observations, 16 variables)\n",
    "\n",
    "To analyze statistics about Apple iOS applications, we are utilizing the dataset “Mobile App Statistics (Apple iOS app store)” from Kaggle. The dataset provides data regarding variables such as ratings, prices and genres of 7197 different apps. For such variables, user rating is measured on a 0-5-point scale, prices are in US dollars, and some genres include Games, Health & Fitness and Utilities. \n",
    "\n",
    "\n",
    "(Copy this information for each dataset)\n",
    "- Dataset Name:\n",
    "- Link to the dataset:\n",
    "- Number of observations:\n",
    "\n",
    "1-2 sentences describing each dataset. \n",
    "\n",
    "If you plan to use multiple datasets, add 1-2 sentences about how you plan to combine these datasets."
   ]
  },
  {
   "cell_type": "markdown",
   "metadata": {},
   "source": [
    "# Setup"
   ]
  },
  {
   "cell_type": "code",
   "execution_count": 1,
   "metadata": {},
   "outputs": [
    {
     "name": "stderr",
     "output_type": "stream",
     "text": [
      "/opt/conda/lib/python3.6/site-packages/statsmodels/compat/pandas.py:56: FutureWarning: The pandas.core.datetools module is deprecated and will be removed in a future version. Please use the pandas.tseries module instead.\n",
      "  from pandas.core import datetools\n"
     ]
    }
   ],
   "source": [
    "%matplotlib inline\n",
    "\n",
    "import numpy as np\n",
    "import pandas as pd\n",
    "import matplotlib.pyplot as plt\n",
    "import seaborn as sns\n",
    "\n",
    "import patsy\n",
    "import statsmodels.api as sm\n",
    "import scipy.stats as stats\n",
    "from scipy.stats import ttest_ind, chisquare, normaltest"
   ]
  },
  {
   "cell_type": "code",
   "execution_count": 2,
   "metadata": {},
   "outputs": [],
   "source": [
    "#Read in app data\n",
    "df = pd.read_csv('AppleStore.csv')"
   ]
  },
  {
   "cell_type": "code",
   "execution_count": 3,
   "metadata": {},
   "outputs": [
    {
     "data": {
      "text/html": [
       "<div>\n",
       "<style scoped>\n",
       "    .dataframe tbody tr th:only-of-type {\n",
       "        vertical-align: middle;\n",
       "    }\n",
       "\n",
       "    .dataframe tbody tr th {\n",
       "        vertical-align: top;\n",
       "    }\n",
       "\n",
       "    .dataframe thead th {\n",
       "        text-align: right;\n",
       "    }\n",
       "</style>\n",
       "<table border=\"1\" class=\"dataframe\">\n",
       "  <thead>\n",
       "    <tr style=\"text-align: right;\">\n",
       "      <th></th>\n",
       "      <th>Unnamed: 0</th>\n",
       "      <th>id</th>\n",
       "      <th>track_name</th>\n",
       "      <th>size_bytes</th>\n",
       "      <th>currency</th>\n",
       "      <th>price</th>\n",
       "      <th>rating_count_tot</th>\n",
       "      <th>rating_count_ver</th>\n",
       "      <th>user_rating</th>\n",
       "      <th>user_rating_ver</th>\n",
       "      <th>ver</th>\n",
       "      <th>cont_rating</th>\n",
       "      <th>prime_genre</th>\n",
       "      <th>sup_devices.num</th>\n",
       "      <th>ipadSc_urls.num</th>\n",
       "      <th>lang.num</th>\n",
       "      <th>vpp_lic</th>\n",
       "    </tr>\n",
       "  </thead>\n",
       "  <tbody>\n",
       "    <tr>\n",
       "      <th>0</th>\n",
       "      <td>1</td>\n",
       "      <td>281656475</td>\n",
       "      <td>PAC-MAN Premium</td>\n",
       "      <td>100788224</td>\n",
       "      <td>USD</td>\n",
       "      <td>3.99</td>\n",
       "      <td>21292</td>\n",
       "      <td>26</td>\n",
       "      <td>4.0</td>\n",
       "      <td>4.5</td>\n",
       "      <td>6.3.5</td>\n",
       "      <td>4+</td>\n",
       "      <td>Games</td>\n",
       "      <td>38</td>\n",
       "      <td>5</td>\n",
       "      <td>10</td>\n",
       "      <td>1</td>\n",
       "    </tr>\n",
       "    <tr>\n",
       "      <th>1</th>\n",
       "      <td>2</td>\n",
       "      <td>281796108</td>\n",
       "      <td>Evernote - stay organized</td>\n",
       "      <td>158578688</td>\n",
       "      <td>USD</td>\n",
       "      <td>0.00</td>\n",
       "      <td>161065</td>\n",
       "      <td>26</td>\n",
       "      <td>4.0</td>\n",
       "      <td>3.5</td>\n",
       "      <td>8.2.2</td>\n",
       "      <td>4+</td>\n",
       "      <td>Productivity</td>\n",
       "      <td>37</td>\n",
       "      <td>5</td>\n",
       "      <td>23</td>\n",
       "      <td>1</td>\n",
       "    </tr>\n",
       "    <tr>\n",
       "      <th>2</th>\n",
       "      <td>3</td>\n",
       "      <td>281940292</td>\n",
       "      <td>WeatherBug - Local Weather, Radar, Maps, Alerts</td>\n",
       "      <td>100524032</td>\n",
       "      <td>USD</td>\n",
       "      <td>0.00</td>\n",
       "      <td>188583</td>\n",
       "      <td>2822</td>\n",
       "      <td>3.5</td>\n",
       "      <td>4.5</td>\n",
       "      <td>5.0.0</td>\n",
       "      <td>4+</td>\n",
       "      <td>Weather</td>\n",
       "      <td>37</td>\n",
       "      <td>5</td>\n",
       "      <td>3</td>\n",
       "      <td>1</td>\n",
       "    </tr>\n",
       "    <tr>\n",
       "      <th>3</th>\n",
       "      <td>4</td>\n",
       "      <td>282614216</td>\n",
       "      <td>eBay: Best App to Buy, Sell, Save! Online Shop...</td>\n",
       "      <td>128512000</td>\n",
       "      <td>USD</td>\n",
       "      <td>0.00</td>\n",
       "      <td>262241</td>\n",
       "      <td>649</td>\n",
       "      <td>4.0</td>\n",
       "      <td>4.5</td>\n",
       "      <td>5.10.0</td>\n",
       "      <td>12+</td>\n",
       "      <td>Shopping</td>\n",
       "      <td>37</td>\n",
       "      <td>5</td>\n",
       "      <td>9</td>\n",
       "      <td>1</td>\n",
       "    </tr>\n",
       "    <tr>\n",
       "      <th>4</th>\n",
       "      <td>5</td>\n",
       "      <td>282935706</td>\n",
       "      <td>Bible</td>\n",
       "      <td>92774400</td>\n",
       "      <td>USD</td>\n",
       "      <td>0.00</td>\n",
       "      <td>985920</td>\n",
       "      <td>5320</td>\n",
       "      <td>4.5</td>\n",
       "      <td>5.0</td>\n",
       "      <td>7.5.1</td>\n",
       "      <td>4+</td>\n",
       "      <td>Reference</td>\n",
       "      <td>37</td>\n",
       "      <td>5</td>\n",
       "      <td>45</td>\n",
       "      <td>1</td>\n",
       "    </tr>\n",
       "  </tbody>\n",
       "</table>\n",
       "</div>"
      ],
      "text/plain": [
       "   Unnamed: 0         id                                         track_name  \\\n",
       "0           1  281656475                                    PAC-MAN Premium   \n",
       "1           2  281796108                          Evernote - stay organized   \n",
       "2           3  281940292    WeatherBug - Local Weather, Radar, Maps, Alerts   \n",
       "3           4  282614216  eBay: Best App to Buy, Sell, Save! Online Shop...   \n",
       "4           5  282935706                                              Bible   \n",
       "\n",
       "   size_bytes currency  price  rating_count_tot  rating_count_ver  \\\n",
       "0   100788224      USD   3.99             21292                26   \n",
       "1   158578688      USD   0.00            161065                26   \n",
       "2   100524032      USD   0.00            188583              2822   \n",
       "3   128512000      USD   0.00            262241               649   \n",
       "4    92774400      USD   0.00            985920              5320   \n",
       "\n",
       "   user_rating  user_rating_ver     ver cont_rating   prime_genre  \\\n",
       "0          4.0              4.5   6.3.5          4+         Games   \n",
       "1          4.0              3.5   8.2.2          4+  Productivity   \n",
       "2          3.5              4.5   5.0.0          4+       Weather   \n",
       "3          4.0              4.5  5.10.0         12+      Shopping   \n",
       "4          4.5              5.0   7.5.1          4+     Reference   \n",
       "\n",
       "   sup_devices.num  ipadSc_urls.num  lang.num  vpp_lic  \n",
       "0               38                5        10        1  \n",
       "1               37                5        23        1  \n",
       "2               37                5         3        1  \n",
       "3               37                5         9        1  \n",
       "4               37                5        45        1  "
      ]
     },
     "execution_count": 3,
     "metadata": {},
     "output_type": "execute_result"
    }
   ],
   "source": [
    "#Check what data looks like\n",
    "df.head()\n",
    "\n",
    "#df_desc.head()"
   ]
  },
  {
   "cell_type": "markdown",
   "metadata": {},
   "source": [
    "# Data Cleaning"
   ]
  },
  {
   "cell_type": "markdown",
   "metadata": {},
   "source": [
    "First we need to clean the data so that it better addresses the question we have. We are looking at the relationship between ratings and app price, so we can delete the other columns that are not related to these topics. We then change the names of the columns to be more reader-friendly. Genre/Category is kept in the data set because it may be useful for later analysis. "
   ]
  },
  {
   "cell_type": "code",
   "execution_count": 4,
   "metadata": {},
   "outputs": [
    {
     "data": {
      "text/plain": [
       "Index(['Unnamed: 0', 'id', 'track_name', 'size_bytes', 'currency', 'price',\n",
       "       'rating_count_tot', 'rating_count_ver', 'user_rating',\n",
       "       'user_rating_ver', 'ver', 'cont_rating', 'prime_genre',\n",
       "       'sup_devices.num', 'ipadSc_urls.num', 'lang.num', 'vpp_lic'],\n",
       "      dtype='object')"
      ]
     },
     "execution_count": 4,
     "metadata": {},
     "output_type": "execute_result"
    }
   ],
   "source": [
    "#Check columns\n",
    "df.columns"
   ]
  },
  {
   "cell_type": "code",
   "execution_count": 5,
   "metadata": {},
   "outputs": [],
   "source": [
    "#Remove unneeded columns (columns not used in our analysis)\n",
    "df = df.drop(columns = ['Unnamed: 0', 'id', 'size_bytes', 'currency', 'rating_count_ver', 'user_rating_ver', 'ver',\n",
    "                  'cont_rating', 'sup_devices.num', 'ipadSc_urls.num', 'lang.num', 'vpp_lic'], axis = 1)"
   ]
  },
  {
   "cell_type": "code",
   "execution_count": 6,
   "metadata": {},
   "outputs": [
    {
     "data": {
      "text/html": [
       "<div>\n",
       "<style scoped>\n",
       "    .dataframe tbody tr th:only-of-type {\n",
       "        vertical-align: middle;\n",
       "    }\n",
       "\n",
       "    .dataframe tbody tr th {\n",
       "        vertical-align: top;\n",
       "    }\n",
       "\n",
       "    .dataframe thead th {\n",
       "        text-align: right;\n",
       "    }\n",
       "</style>\n",
       "<table border=\"1\" class=\"dataframe\">\n",
       "  <thead>\n",
       "    <tr style=\"text-align: right;\">\n",
       "      <th></th>\n",
       "      <th>app_name</th>\n",
       "      <th>app_store_price (USD)</th>\n",
       "      <th>rating_count</th>\n",
       "      <th>user_rating</th>\n",
       "      <th>category</th>\n",
       "    </tr>\n",
       "  </thead>\n",
       "  <tbody>\n",
       "    <tr>\n",
       "      <th>0</th>\n",
       "      <td>PAC-MAN Premium</td>\n",
       "      <td>3.99</td>\n",
       "      <td>21292</td>\n",
       "      <td>4.0</td>\n",
       "      <td>Games</td>\n",
       "    </tr>\n",
       "    <tr>\n",
       "      <th>1</th>\n",
       "      <td>Evernote - stay organized</td>\n",
       "      <td>0.00</td>\n",
       "      <td>161065</td>\n",
       "      <td>4.0</td>\n",
       "      <td>Productivity</td>\n",
       "    </tr>\n",
       "    <tr>\n",
       "      <th>2</th>\n",
       "      <td>WeatherBug - Local Weather, Radar, Maps, Alerts</td>\n",
       "      <td>0.00</td>\n",
       "      <td>188583</td>\n",
       "      <td>3.5</td>\n",
       "      <td>Weather</td>\n",
       "    </tr>\n",
       "    <tr>\n",
       "      <th>3</th>\n",
       "      <td>eBay: Best App to Buy, Sell, Save! Online Shop...</td>\n",
       "      <td>0.00</td>\n",
       "      <td>262241</td>\n",
       "      <td>4.0</td>\n",
       "      <td>Shopping</td>\n",
       "    </tr>\n",
       "    <tr>\n",
       "      <th>4</th>\n",
       "      <td>Bible</td>\n",
       "      <td>0.00</td>\n",
       "      <td>985920</td>\n",
       "      <td>4.5</td>\n",
       "      <td>Reference</td>\n",
       "    </tr>\n",
       "  </tbody>\n",
       "</table>\n",
       "</div>"
      ],
      "text/plain": [
       "                                            app_name  app_store_price (USD)  \\\n",
       "0                                    PAC-MAN Premium                   3.99   \n",
       "1                          Evernote - stay organized                   0.00   \n",
       "2    WeatherBug - Local Weather, Radar, Maps, Alerts                   0.00   \n",
       "3  eBay: Best App to Buy, Sell, Save! Online Shop...                   0.00   \n",
       "4                                              Bible                   0.00   \n",
       "\n",
       "   rating_count  user_rating      category  \n",
       "0         21292          4.0         Games  \n",
       "1        161065          4.0  Productivity  \n",
       "2        188583          3.5       Weather  \n",
       "3        262241          4.0      Shopping  \n",
       "4        985920          4.5     Reference  "
      ]
     },
     "execution_count": 6,
     "metadata": {},
     "output_type": "execute_result"
    }
   ],
   "source": [
    "#Rename columns\n",
    "df.columns = ['app_name', 'app_store_price (USD)', 'rating_count', 'user_rating', 'category']\n",
    "df.head()"
   ]
  },
  {
   "cell_type": "markdown",
   "metadata": {},
   "source": [
    "Before we can start analyzing the data, we need to remove any unnecessary or possibly problematic data points. We first check to see if there were any rows that were empty in the data set. Then we take out rows where the rating_count is equal to zero. Those rows would usually have a zero for the rating_count column and the user_rating column. No user ratings is different from a user rating of zero, so these rows are taken out so it won’t skew the data. Outliers are also taken out of the data set."
   ]
  },
  {
   "cell_type": "code",
   "execution_count": 7,
   "metadata": {},
   "outputs": [
    {
     "data": {
      "text/plain": [
       "0"
      ]
     },
     "execution_count": 7,
     "metadata": {},
     "output_type": "execute_result"
    }
   ],
   "source": [
    "#Check to see if there are any rows with empty data cells\n",
    "empty_rows = df[df.isnull().any(axis=1)]\n",
    "len(empty_rows)"
   ]
  },
  {
   "cell_type": "code",
   "execution_count": 8,
   "metadata": {},
   "outputs": [],
   "source": [
    "#Remove rows where the rating_count = 0\n",
    "df = df[df['rating_count'] != 0]"
   ]
  },
  {
   "cell_type": "code",
   "execution_count": 9,
   "metadata": {},
   "outputs": [],
   "source": [
    "#Removes all rows with a price greater than $9.99 (price chosen because 90% of apps are in the $0 to $9.99 range)\n",
    "df = df[df['app_store_price (USD)'] < 10]"
   ]
  },
  {
   "cell_type": "markdown",
   "metadata": {},
   "source": [
    "#### Grouping:\n",
    "\n",
    "We decided to group the original genre categories into larger groups. This is because we had 23 different categories in our dataset, with some genres being underrepresented. As such, we decided to create 5 overall groups (‘Recreation’, ‘Lifestyle’, ‘Information’, ‘Utilities’, and ‘Trending’). These five groups represent the following general themes we found within our dataset:\n",
    "\n",
    "- Recreation is largely composed of ‘Games’, which is the largest category in our dataset.\n",
    "- Lifestyle includes the ‘Health & Fitness’ and ‘Travel’ genres, which has apps that promote changes in daily life.\n",
    "- Information includes ‘Education’ and ‘Book’, which helps with scholastic pursuits.\n",
    "- Utilities has the ‘Productivity’ and ‘Music’ genres, which includes apps that improve the capabilities of the user’s phone.\n",
    "- Trending includes ‘News’ and ‘Social Networking’, which has information that is currently updating.\n"
   ]
  },
  {
   "cell_type": "code",
   "execution_count": 10,
   "metadata": {},
   "outputs": [
    {
     "data": {
      "text/html": [
       "<div>\n",
       "<style scoped>\n",
       "    .dataframe tbody tr th:only-of-type {\n",
       "        vertical-align: middle;\n",
       "    }\n",
       "\n",
       "    .dataframe tbody tr th {\n",
       "        vertical-align: top;\n",
       "    }\n",
       "\n",
       "    .dataframe thead th {\n",
       "        text-align: right;\n",
       "    }\n",
       "</style>\n",
       "<table border=\"1\" class=\"dataframe\">\n",
       "  <thead>\n",
       "    <tr style=\"text-align: right;\">\n",
       "      <th></th>\n",
       "      <th>app_name</th>\n",
       "      <th>app_store_price (USD)</th>\n",
       "      <th>rating_count</th>\n",
       "      <th>user_rating</th>\n",
       "      <th>category</th>\n",
       "      <th>group</th>\n",
       "    </tr>\n",
       "  </thead>\n",
       "  <tbody>\n",
       "    <tr>\n",
       "      <th>0</th>\n",
       "      <td>PAC-MAN Premium</td>\n",
       "      <td>3.99</td>\n",
       "      <td>21292</td>\n",
       "      <td>4.0</td>\n",
       "      <td>Games</td>\n",
       "      <td>Recreation</td>\n",
       "    </tr>\n",
       "    <tr>\n",
       "      <th>1</th>\n",
       "      <td>Evernote - stay organized</td>\n",
       "      <td>0.00</td>\n",
       "      <td>161065</td>\n",
       "      <td>4.0</td>\n",
       "      <td>Productivity</td>\n",
       "      <td>Utilities</td>\n",
       "    </tr>\n",
       "    <tr>\n",
       "      <th>2</th>\n",
       "      <td>WeatherBug - Local Weather, Radar, Maps, Alerts</td>\n",
       "      <td>0.00</td>\n",
       "      <td>188583</td>\n",
       "      <td>3.5</td>\n",
       "      <td>Weather</td>\n",
       "      <td>Trending</td>\n",
       "    </tr>\n",
       "    <tr>\n",
       "      <th>3</th>\n",
       "      <td>eBay: Best App to Buy, Sell, Save! Online Shop...</td>\n",
       "      <td>0.00</td>\n",
       "      <td>262241</td>\n",
       "      <td>4.0</td>\n",
       "      <td>Shopping</td>\n",
       "      <td>Lifestyle</td>\n",
       "    </tr>\n",
       "    <tr>\n",
       "      <th>4</th>\n",
       "      <td>Bible</td>\n",
       "      <td>0.00</td>\n",
       "      <td>985920</td>\n",
       "      <td>4.5</td>\n",
       "      <td>Reference</td>\n",
       "      <td>Information</td>\n",
       "    </tr>\n",
       "  </tbody>\n",
       "</table>\n",
       "</div>"
      ],
      "text/plain": [
       "                                            app_name  app_store_price (USD)  \\\n",
       "0                                    PAC-MAN Premium                   3.99   \n",
       "1                          Evernote - stay organized                   0.00   \n",
       "2    WeatherBug - Local Weather, Radar, Maps, Alerts                   0.00   \n",
       "3  eBay: Best App to Buy, Sell, Save! Online Shop...                   0.00   \n",
       "4                                              Bible                   0.00   \n",
       "\n",
       "   rating_count  user_rating      category        group  \n",
       "0         21292          4.0         Games   Recreation  \n",
       "1        161065          4.0  Productivity    Utilities  \n",
       "2        188583          3.5       Weather     Trending  \n",
       "3        262241          4.0      Shopping    Lifestyle  \n",
       "4        985920          4.5     Reference  Information  "
      ]
     },
     "execution_count": 10,
     "metadata": {},
     "output_type": "execute_result"
    }
   ],
   "source": [
    "#Sort categories into larger groups\n",
    "\n",
    "df['group'] = df['category']\n",
    "\n",
    "#Recreation Group\n",
    "df['group'].replace('Games','Recreation', inplace=True)\n",
    "df['group'].replace('Entertainment','Recreation', inplace=True)\n",
    "\n",
    "#Lifestyle Group\n",
    "df['group'].replace('Health & Fitness','Lifestyle', inplace=True)\n",
    "df['group'].replace('Lifestyle','Lifestyle', inplace=True)\n",
    "df['group'].replace('Shopping','Lifestyle', inplace=True)\n",
    "df['group'].replace('Finance','Lifestyle', inplace=True)\n",
    "df['group'].replace('Travel','Lifestyle', inplace=True)\n",
    "df['group'].replace('Food & Drink','Lifestyle', inplace=True)\n",
    "df['group'].replace('Navigation','Lifestyle', inplace=True)\n",
    "df['group'].replace('Medical','Lifestyle', inplace=True)\n",
    "df['group'].replace('Catalogs','Lifestyle', inplace=True)\n",
    "\n",
    "#Information Group\n",
    "df['group'].replace('Education','Information', inplace=True)\n",
    "df['group'].replace('Book','Information', inplace=True)\n",
    "df['group'].replace('Reference','Information', inplace=True)\n",
    "\n",
    "#Utilities Group\n",
    "df['group'].replace('Productivity','Utilities', inplace=True)\n",
    "df['group'].replace('Utilities','Utilities', inplace=True)\n",
    "df['group'].replace('Photo & Video','Utilities', inplace=True)\n",
    "df['group'].replace('Music','Utilities', inplace=True)\n",
    "df['group'].replace('Business','Utilities', inplace=True)\n",
    "\n",
    "#Trending Group\n",
    "df['group'].replace('Social Networking','Trending', inplace=True)\n",
    "df['group'].replace('Sports','Trending', inplace=True)\n",
    "df['group'].replace('Weather','Trending', inplace=True)\n",
    "df['group'].replace('News','Trending', inplace=True)\n",
    "\n",
    "df.head()"
   ]
  },
  {
   "cell_type": "markdown",
   "metadata": {},
   "source": [
    "# Data Analysis & Results"
   ]
  },
  {
   "cell_type": "code",
   "execution_count": 11,
   "metadata": {},
   "outputs": [
    {
     "data": {
      "image/png": "[encoded data removed]",
      "text/plain": [
       "<Figure size 576x432 with 9 Axes>"
      ]
     },
     "metadata": {
      "needs_background": "light"
     },
     "output_type": "display_data"
    }
   ],
   "source": [
    "#Plot the data in a scatter matrix\n",
    "fig = pd.plotting.scatter_matrix(df[['app_store_price (USD)', 'user_rating', 'rating_count']], figsize=(8,6))\n",
    "\n",
    "plt.show()"
   ]
  },
  {
   "cell_type": "markdown",
   "metadata": {},
   "source": [
    "#### Interpretation of graph above: \n",
    "Shows a general distribution of app store prices, user ratings, and rating counts. Due to the nature of the data (non parametric data, with user rating being an ordinal value), the scatter plots appear linear."
   ]
  },
  {
   "cell_type": "code",
   "execution_count": 12,
   "metadata": {},
   "outputs": [
    {
     "data": {
      "image/png": "[encoded data removed]",
      "text/plain": [
       "<Figure size 576x432 with 1 Axes>"
      ]
     },
     "metadata": {
      "needs_background": "light"
     },
     "output_type": "display_data"
    }
   ],
   "source": [
    "#Number of apps per rating\n",
    "rating = df['user_rating'].value_counts()\n",
    "rating_order = [1.0, 1.5, 2.0, 2.5, 3.0, 3.5, 4.0, 4.5, 5.0]\n",
    "\n",
    "plt.xlabel('Rating', fontsize = 14)\n",
    "plt.ylabel('Number of Apps', fontsize = 14)\n",
    "plt.title('Number of Apps per Rating', fontsize = 16)\n",
    "\n",
    "rating.loc[rating_order].plot.bar(fontsize = 14, figsize=(8, 6))\n",
    "plt.show()"
   ]
  },
  {
   "cell_type": "markdown",
   "metadata": {},
   "source": [
    "#### Interpretation of graph above: \n",
    "There are considerably more high ratings than low ratings. A rating of 4.5 is significantly more common than\n",
    "other options. A 1.0 rating is very rare. The counts also mostly follow a linear distrubtion: the most common rating is a 4.5, and the values decrement in order of rating. The exception is a 5.0 rating, which is the 4th most common rating.\n",
    "\n",
    "It is important to note that the ratings data is ordinal: it is ranked data. As such, the \"weight\" or \"value\" of each rating value differs. For example, a 1.0 is significantly different than a 3.0. Furthermore, while each 0.5 step is numerically similar, it can have distinct differences in rank. The 4.5 to 5.0 difference is significantly more than the 3.5 to 4.0, for example."
   ]
  },
  {
   "cell_type": "code",
   "execution_count": 13,
   "metadata": {
    "scrolled": false
   },
   "outputs": [
    {
     "data": {
      "image/png": "[encoded data removed]",
      "text/plain": [
       "<Figure size 576x432 with 1 Axes>"
      ]
     },
     "metadata": {
      "needs_background": "light"
     },
     "output_type": "display_data"
    }
   ],
   "source": [
    "#Number of apps per price\n",
    "price = df['app_store_price (USD)'].value_counts()\n",
    "\n",
    "#Specifies number of apps per price to only include unique counts greater than 100 for a particular price. This helps better visualize the distribution, as there are many prices that have an insignificant number of apps priced at that value (a count of 1 or 2 was common, so those were deleted to better show distribution).\n",
    "price = (price[price>=100])\n",
    "\n",
    "plt.xlabel('Price (USD)', fontsize = 14)\n",
    "plt.ylabel('Number of Apps', fontsize = 14)\n",
    "plt.title('Number of Apps per Price', fontsize = 16)\n",
    "\n",
    "price.plot.bar(fontsize = 14, figsize=(8, 6))\n",
    "plt.show()"
   ]
  },
  {
   "cell_type": "markdown",
   "metadata": {},
   "source": [
    "#### Interpretation of graph above: \n",
    "\n",
    "There are considerably more apps that are free than at any other price point. Following the free apps, the \\\\$2.99, \\\\$0.99, and \\\\$1.99 respectively are the most popular. However, they are considerably less common than the free apps. In our data set, there are 3,383 apps that are mostly free. The next most common price, \\\\$2.99, has only 650 apps."
   ]
  },
  {
   "cell_type": "code",
   "execution_count": 14,
   "metadata": {},
   "outputs": [
    {
     "data": {
      "image/png": "[encoded data removed]",
      "text/plain": [
       "<Figure size 576x720 with 1 Axes>"
      ]
     },
     "metadata": {
      "needs_background": "light"
     },
     "output_type": "display_data"
    }
   ],
   "source": [
    "#Boxplot that groups app store price by user ratings to understand the trend of app store ratings for each price\n",
    "df.boxplot(column=['user_rating'], by=['app_store_price (USD)'], fontsize = 14, figsize=(8,10))\n",
    "\n",
    "plt.xlabel('Price (USD)', fontsize = 14)\n",
    "plt.ylabel('User Rating', fontsize = 14)\n",
    "plt.title('Boxplot grouped by Price and User Ratings', fontsize = 16)\n",
    "plt.show()"
   ]
  },
  {
   "cell_type": "markdown",
   "metadata": {},
   "source": [
    "#### Interpretation of graph above: \n",
    "The boxplot shows the average user rating by prices up to \\\\$10. Prices up to \\\\$10 were chosen as to better see the boxes. Due to the nature of our data (non-parametric ordinal data), the boxes align exactly at rating data points. This results in the grid-like boxplot shown below. The range of user ratings for each price all lie within the 4.0-4.5 range, with the 1st and 3rd quartiles all being within this range. The exception is with apps that are \\\\$0.99 and \\\\$1.99, which have a Q1 of 3.5."
   ]
  },
  {
   "cell_type": "code",
   "execution_count": 15,
   "metadata": {},
   "outputs": [
    {
     "data": {
      "image/png": "[encoded data removed]",
      "text/plain": [
       "<Figure size 576x432 with 1 Axes>"
      ]
     },
     "metadata": {
      "needs_background": "light"
     },
     "output_type": "display_data"
    }
   ],
   "source": [
    "#Number of Apps per Group\n",
    "group = df['group'].value_counts()\n",
    "\n",
    "plt.xlabel('Group', fontsize = 14)\n",
    "plt.ylabel('Number of Apps', fontsize = 14)\n",
    "plt.title('Number of Apps per Group', fontsize = 16)\n",
    "\n",
    "group.plot.bar(fontsize = 14, figsize=(8, 6))\n",
    "plt.show()"
   ]
  },
  {
   "cell_type": "markdown",
   "metadata": {},
   "source": [
    "#### Interpretation of graph above: \n",
    "\n",
    "Due to the size of the 'Games' category, the Recreation group is significantly larger than the other groups. Despite the distribution that was due to the size of one category of the dataset before grouping, the other groups are relatively similar to one another. All groups have at least 300 apps, which was our goal when making the groups."
   ]
  },
  {
   "cell_type": "code",
   "execution_count": 16,
   "metadata": {},
   "outputs": [],
   "source": [
    "#Creating a separate dataframe for each group\n",
    "\n",
    "#Recreation Group\n",
    "df_rec = df\n",
    "df_rec = df_rec[df.group == 'Recreation']\n",
    "df_rec = df_rec.drop(columns =['app_name','category','group'], axis=1)\n",
    "\n",
    "#Utilities Group\n",
    "df_utilities = df\n",
    "df_utilities = df_utilities[df.group == 'Utilities']\n",
    "df_utilities = df_utilities.drop(columns =['category','group'], axis=1)\n",
    "\n",
    "#Lifestyle Group\n",
    "df_life = df\n",
    "df_life = df_life[df.group == 'Lifestyle']\n",
    "df_life = df_life.drop(columns =['category','group'], axis=1)\n",
    "\n",
    "\n",
    "#Information Group\n",
    "df_info = df\n",
    "df_info = df_info[df.group == 'Information']\n",
    "df_info = df_info.drop(columns =['category','group'], axis=1)\n",
    "\n",
    "\n",
    "#Trending Group\n",
    "df_trending = df\n",
    "df_trending = df_trending[df.group == 'Trending']\n",
    "df_trending = df_trending.drop(columns =['category','group'], axis=1)\n"
   ]
  },
  {
   "cell_type": "code",
   "execution_count": 17,
   "metadata": {},
   "outputs": [
    {
     "data": {
      "text/plain": [
       "app_store_price (USD)        1.362993\n",
       "rating_count             14765.904984\n",
       "user_rating                  4.124351\n",
       "dtype: float64"
      ]
     },
     "execution_count": 17,
     "metadata": {},
     "output_type": "execute_result"
    }
   ],
   "source": [
    "#Finding the average prices and ratings per group\n",
    "\n",
    "#Recreation group mean\n",
    "df_rec = df_rec.mean()\n",
    "df_rec"
   ]
  },
  {
   "cell_type": "code",
   "execution_count": 18,
   "metadata": {},
   "outputs": [
    {
     "data": {
      "text/plain": [
       "app_store_price (USD)        1.911657\n",
       "rating_count             14242.365938\n",
       "user_rating                  3.996548\n",
       "dtype: float64"
      ]
     },
     "execution_count": 18,
     "metadata": {},
     "output_type": "execute_result"
    }
   ],
   "source": [
    "#Utilities group mean\n",
    "df_utilities = df_utilities.mean()\n",
    "df_utilities"
   ]
  },
  {
   "cell_type": "code",
   "execution_count": 19,
   "metadata": {},
   "outputs": [
    {
     "data": {
      "text/plain": [
       "app_store_price (USD)        1.169579\n",
       "rating_count             14048.556634\n",
       "user_rating                  3.901294\n",
       "dtype: float64"
      ]
     },
     "execution_count": 19,
     "metadata": {},
     "output_type": "execute_result"
    }
   ],
   "source": [
    "#Lifestyle group mean\n",
    "df_life = df_life.mean()\n",
    "df_life"
   ]
  },
  {
   "cell_type": "code",
   "execution_count": 20,
   "metadata": {},
   "outputs": [
    {
     "data": {
      "text/plain": [
       "app_store_price (USD)       2.242224\n",
       "rating_count             6148.834694\n",
       "user_rating                 4.004082\n",
       "dtype: float64"
      ]
     },
     "execution_count": 20,
     "metadata": {},
     "output_type": "execute_result"
    }
   ],
   "source": [
    "#Information group mean\n",
    "df_info = df_info.mean()\n",
    "df_info"
   ]
  },
  {
   "cell_type": "code",
   "execution_count": 21,
   "metadata": {},
   "outputs": [
    {
     "data": {
      "text/plain": [
       "app_store_price (USD)        0.772139\n",
       "rating_count             32695.436111\n",
       "user_rating                  3.656944\n",
       "dtype: float64"
      ]
     },
     "execution_count": 21,
     "metadata": {},
     "output_type": "execute_result"
    }
   ],
   "source": [
    "#Trending group mean\n",
    "df_trending = df_trending.mean()\n",
    "df_trending"
   ]
  },
  {
   "cell_type": "code",
   "execution_count": 22,
   "metadata": {},
   "outputs": [],
   "source": [
    "#Create a dataframe with the mean for all the groups\n",
    "df_group = df.groupby('group').mean()"
   ]
  },
  {
   "cell_type": "code",
   "execution_count": 23,
   "metadata": {},
   "outputs": [
    {
     "data": {
      "image/png": "[encoded data removed]",
      "text/plain": [
       "<Figure size 576x432 with 1 Axes>"
      ]
     },
     "metadata": {
      "needs_background": "light"
     },
     "output_type": "display_data"
    }
   ],
   "source": [
    "#Average price per group\n",
    "group_price = df_group['app_store_price (USD)']\n",
    "group_order = ['Recreation', 'Utilities', 'Lifestyle', 'Information', 'Trending']\n",
    "\n",
    "plt.xlabel('Group', fontsize = 14)\n",
    "plt.ylabel('Average Price (USD)', fontsize = 14)\n",
    "plt.title('Average Price per Group', fontsize = 16)\n",
    "\n",
    "group_price.loc[group_order].plot.bar(fontsize = 14, figsize=(8, 6))\n",
    "plt.show()"
   ]
  },
  {
   "cell_type": "markdown",
   "metadata": {},
   "source": [
    "#### Interpretation of graph above:\n",
    "\n",
    "The group averages for price are relatively similar to one another. This aligns with the data collected previously: the lower end prices (\\\\$0.00 - \\\\$2.99) are the most common pricing options for the apps in our dataset. In our groups, Information has the highest average price of \\\\$2.24, while Trending has the lowest at \\\\$0.77. The largest group, Recreation, has an average price of \\\\$1.36."
   ]
  },
  {
   "cell_type": "code",
   "execution_count": 24,
   "metadata": {},
   "outputs": [
    {
     "data": {
      "image/png": "[encoded data removed]",
      "text/plain": [
       "<Figure size 576x432 with 1 Axes>"
      ]
     },
     "metadata": {
      "needs_background": "light"
     },
     "output_type": "display_data"
    }
   ],
   "source": [
    "#Average rating per group\n",
    "group_rating = df_group['user_rating']\n",
    "\n",
    "plt.xlabel('Group', fontsize = 14)\n",
    "plt.ylabel('Average Rating', fontsize = 14)\n",
    "plt.title('Average Rating per Group', fontsize = 16)\n",
    "\n",
    "group_rating.loc[group_order].plot.bar(fontsize = 14, figsize=(8, 6))\n",
    "plt.show()"
   ]
  },
  {
   "cell_type": "markdown",
   "metadata": {},
   "source": [
    "# !!!"
   ]
  },
  {
   "cell_type": "markdown",
   "metadata": {},
   "source": [
    "## Statistical Tests"
   ]
  },
  {
   "cell_type": "code",
   "execution_count": 25,
   "metadata": {},
   "outputs": [
    {
     "data": {
      "text/html": [
       "<div>\n",
       "<style scoped>\n",
       "    .dataframe tbody tr th:only-of-type {\n",
       "        vertical-align: middle;\n",
       "    }\n",
       "\n",
       "    .dataframe tbody tr th {\n",
       "        vertical-align: top;\n",
       "    }\n",
       "\n",
       "    .dataframe thead tr th {\n",
       "        text-align: left;\n",
       "    }\n",
       "\n",
       "    .dataframe thead tr:last-of-type th {\n",
       "        text-align: right;\n",
       "    }\n",
       "</style>\n",
       "<table border=\"1\" class=\"dataframe\">\n",
       "  <thead>\n",
       "    <tr>\n",
       "      <th></th>\n",
       "      <th colspan=\"8\" halign=\"left\">app_store_price (USD)</th>\n",
       "    </tr>\n",
       "    <tr>\n",
       "      <th></th>\n",
       "      <th>count</th>\n",
       "      <th>mean</th>\n",
       "      <th>std</th>\n",
       "      <th>min</th>\n",
       "      <th>25%</th>\n",
       "      <th>50%</th>\n",
       "      <th>75%</th>\n",
       "      <th>max</th>\n",
       "    </tr>\n",
       "    <tr>\n",
       "      <th>user_rating</th>\n",
       "      <th></th>\n",
       "      <th></th>\n",
       "      <th></th>\n",
       "      <th></th>\n",
       "      <th></th>\n",
       "      <th></th>\n",
       "      <th></th>\n",
       "      <th></th>\n",
       "    </tr>\n",
       "  </thead>\n",
       "  <tbody>\n",
       "    <tr>\n",
       "      <th>1.0</th>\n",
       "      <td>43.0</td>\n",
       "      <td>1.390233</td>\n",
       "      <td>2.045286</td>\n",
       "      <td>0.0</td>\n",
       "      <td>0.0</td>\n",
       "      <td>0.99</td>\n",
       "      <td>1.99</td>\n",
       "      <td>9.99</td>\n",
       "    </tr>\n",
       "    <tr>\n",
       "      <th>1.5</th>\n",
       "      <td>56.0</td>\n",
       "      <td>1.208929</td>\n",
       "      <td>1.419337</td>\n",
       "      <td>0.0</td>\n",
       "      <td>0.0</td>\n",
       "      <td>0.99</td>\n",
       "      <td>1.99</td>\n",
       "      <td>4.99</td>\n",
       "    </tr>\n",
       "    <tr>\n",
       "      <th>2.0</th>\n",
       "      <td>106.0</td>\n",
       "      <td>1.155755</td>\n",
       "      <td>1.737413</td>\n",
       "      <td>0.0</td>\n",
       "      <td>0.0</td>\n",
       "      <td>0.00</td>\n",
       "      <td>1.99</td>\n",
       "      <td>9.99</td>\n",
       "    </tr>\n",
       "    <tr>\n",
       "      <th>2.5</th>\n",
       "      <td>196.0</td>\n",
       "      <td>1.103214</td>\n",
       "      <td>1.948201</td>\n",
       "      <td>0.0</td>\n",
       "      <td>0.0</td>\n",
       "      <td>0.00</td>\n",
       "      <td>1.99</td>\n",
       "      <td>9.99</td>\n",
       "    </tr>\n",
       "    <tr>\n",
       "      <th>3.0</th>\n",
       "      <td>382.0</td>\n",
       "      <td>1.252199</td>\n",
       "      <td>1.936959</td>\n",
       "      <td>0.0</td>\n",
       "      <td>0.0</td>\n",
       "      <td>0.00</td>\n",
       "      <td>1.99</td>\n",
       "      <td>9.99</td>\n",
       "    </tr>\n",
       "    <tr>\n",
       "      <th>3.5</th>\n",
       "      <td>695.0</td>\n",
       "      <td>1.522000</td>\n",
       "      <td>2.175266</td>\n",
       "      <td>0.0</td>\n",
       "      <td>0.0</td>\n",
       "      <td>0.00</td>\n",
       "      <td>2.99</td>\n",
       "      <td>9.99</td>\n",
       "    </tr>\n",
       "    <tr>\n",
       "      <th>4.0</th>\n",
       "      <td>1603.0</td>\n",
       "      <td>1.591684</td>\n",
       "      <td>2.271349</td>\n",
       "      <td>0.0</td>\n",
       "      <td>0.0</td>\n",
       "      <td>0.00</td>\n",
       "      <td>2.99</td>\n",
       "      <td>9.99</td>\n",
       "    </tr>\n",
       "    <tr>\n",
       "      <th>4.5</th>\n",
       "      <td>2620.0</td>\n",
       "      <td>1.425744</td>\n",
       "      <td>2.089482</td>\n",
       "      <td>0.0</td>\n",
       "      <td>0.0</td>\n",
       "      <td>0.00</td>\n",
       "      <td>2.99</td>\n",
       "      <td>9.99</td>\n",
       "    </tr>\n",
       "    <tr>\n",
       "      <th>5.0</th>\n",
       "      <td>488.0</td>\n",
       "      <td>1.478832</td>\n",
       "      <td>2.144816</td>\n",
       "      <td>0.0</td>\n",
       "      <td>0.0</td>\n",
       "      <td>0.00</td>\n",
       "      <td>1.99</td>\n",
       "      <td>9.99</td>\n",
       "    </tr>\n",
       "  </tbody>\n",
       "</table>\n",
       "</div>"
      ],
      "text/plain": [
       "            app_store_price (USD)                                            \\\n",
       "                            count      mean       std  min  25%   50%   75%   \n",
       "user_rating                                                                   \n",
       "1.0                          43.0  1.390233  2.045286  0.0  0.0  0.99  1.99   \n",
       "1.5                          56.0  1.208929  1.419337  0.0  0.0  0.99  1.99   \n",
       "2.0                         106.0  1.155755  1.737413  0.0  0.0  0.00  1.99   \n",
       "2.5                         196.0  1.103214  1.948201  0.0  0.0  0.00  1.99   \n",
       "3.0                         382.0  1.252199  1.936959  0.0  0.0  0.00  1.99   \n",
       "3.5                         695.0  1.522000  2.175266  0.0  0.0  0.00  2.99   \n",
       "4.0                        1603.0  1.591684  2.271349  0.0  0.0  0.00  2.99   \n",
       "4.5                        2620.0  1.425744  2.089482  0.0  0.0  0.00  2.99   \n",
       "5.0                         488.0  1.478832  2.144816  0.0  0.0  0.00  1.99   \n",
       "\n",
       "                   \n",
       "              max  \n",
       "user_rating        \n",
       "1.0          9.99  \n",
       "1.5          4.99  \n",
       "2.0          9.99  \n",
       "2.5          9.99  \n",
       "3.0          9.99  \n",
       "3.5          9.99  \n",
       "4.0          9.99  \n",
       "4.5          9.99  \n",
       "5.0          9.99  "
      ]
     },
     "execution_count": 25,
     "metadata": {},
     "output_type": "execute_result"
    }
   ],
   "source": [
    "# See relationship between app price and user rating\n",
    "df[['app_store_price (USD)', 'user_rating']].groupby(['user_rating']).describe()"
   ]
  },
  {
   "cell_type": "code",
   "execution_count": 26,
   "metadata": {},
   "outputs": [
    {
     "data": {
      "text/html": [
       "<div>\n",
       "<style scoped>\n",
       "    .dataframe tbody tr th:only-of-type {\n",
       "        vertical-align: middle;\n",
       "    }\n",
       "\n",
       "    .dataframe tbody tr th {\n",
       "        vertical-align: top;\n",
       "    }\n",
       "\n",
       "    .dataframe thead th {\n",
       "        text-align: right;\n",
       "    }\n",
       "</style>\n",
       "<table border=\"1\" class=\"dataframe\">\n",
       "  <thead>\n",
       "    <tr style=\"text-align: right;\">\n",
       "      <th></th>\n",
       "      <th>app_store_price (USD)</th>\n",
       "      <th>user_rating</th>\n",
       "    </tr>\n",
       "  </thead>\n",
       "  <tbody>\n",
       "    <tr>\n",
       "      <th>app_store_price (USD)</th>\n",
       "      <td>1.000000</td>\n",
       "      <td>0.024655</td>\n",
       "    </tr>\n",
       "    <tr>\n",
       "      <th>user_rating</th>\n",
       "      <td>0.024655</td>\n",
       "      <td>1.000000</td>\n",
       "    </tr>\n",
       "  </tbody>\n",
       "</table>\n",
       "</div>"
      ],
      "text/plain": [
       "                       app_store_price (USD)  user_rating\n",
       "app_store_price (USD)               1.000000     0.024655\n",
       "user_rating                         0.024655     1.000000"
      ]
     },
     "execution_count": 26,
     "metadata": {},
     "output_type": "execute_result"
    }
   ],
   "source": [
    "# only view these two variables\n",
    "df[['app_store_price (USD)', 'user_rating']].corr()"
   ]
  },
  {
   "cell_type": "markdown",
   "metadata": {},
   "source": [
    "After an initial examination of the two variables, there seems to be a very weak correlation between the two (0.0246). We now want to single out the means of the prices per user rating. These values better represent how much an app would cost for a particular user rating. "
   ]
  },
  {
   "cell_type": "code",
   "execution_count": 27,
   "metadata": {},
   "outputs": [
    {
     "data": {
      "text/html": [
       "<div>\n",
       "<style scoped>\n",
       "    .dataframe tbody tr th:only-of-type {\n",
       "        vertical-align: middle;\n",
       "    }\n",
       "\n",
       "    .dataframe tbody tr th {\n",
       "        vertical-align: top;\n",
       "    }\n",
       "\n",
       "    .dataframe thead th {\n",
       "        text-align: right;\n",
       "    }\n",
       "</style>\n",
       "<table border=\"1\" class=\"dataframe\">\n",
       "  <thead>\n",
       "    <tr style=\"text-align: right;\">\n",
       "      <th></th>\n",
       "      <th>app_store_price (USD)</th>\n",
       "      <th>rating_count</th>\n",
       "    </tr>\n",
       "    <tr>\n",
       "      <th>user_rating</th>\n",
       "      <th></th>\n",
       "      <th></th>\n",
       "    </tr>\n",
       "  </thead>\n",
       "  <tbody>\n",
       "    <tr>\n",
       "      <th>1.0</th>\n",
       "      <td>1.390233</td>\n",
       "      <td>30.232558</td>\n",
       "    </tr>\n",
       "    <tr>\n",
       "      <th>1.5</th>\n",
       "      <td>1.208929</td>\n",
       "      <td>203.500000</td>\n",
       "    </tr>\n",
       "    <tr>\n",
       "      <th>2.0</th>\n",
       "      <td>1.155755</td>\n",
       "      <td>2907.235849</td>\n",
       "    </tr>\n",
       "    <tr>\n",
       "      <th>2.5</th>\n",
       "      <td>1.103214</td>\n",
       "      <td>5419.933673</td>\n",
       "    </tr>\n",
       "    <tr>\n",
       "      <th>3.0</th>\n",
       "      <td>1.252199</td>\n",
       "      <td>7502.861257</td>\n",
       "    </tr>\n",
       "    <tr>\n",
       "      <th>3.5</th>\n",
       "      <td>1.522000</td>\n",
       "      <td>15656.435971</td>\n",
       "    </tr>\n",
       "    <tr>\n",
       "      <th>4.0</th>\n",
       "      <td>1.591684</td>\n",
       "      <td>7943.392389</td>\n",
       "    </tr>\n",
       "    <tr>\n",
       "      <th>4.5</th>\n",
       "      <td>1.425744</td>\n",
       "      <td>22369.696947</td>\n",
       "    </tr>\n",
       "    <tr>\n",
       "      <th>5.0</th>\n",
       "      <td>1.478832</td>\n",
       "      <td>12802.922131</td>\n",
       "    </tr>\n",
       "  </tbody>\n",
       "</table>\n",
       "</div>"
      ],
      "text/plain": [
       "             app_store_price (USD)  rating_count\n",
       "user_rating                                     \n",
       "1.0                       1.390233     30.232558\n",
       "1.5                       1.208929    203.500000\n",
       "2.0                       1.155755   2907.235849\n",
       "2.5                       1.103214   5419.933673\n",
       "3.0                       1.252199   7502.861257\n",
       "3.5                       1.522000  15656.435971\n",
       "4.0                       1.591684   7943.392389\n",
       "4.5                       1.425744  22369.696947\n",
       "5.0                       1.478832  12802.922131"
      ]
     },
     "execution_count": 27,
     "metadata": {},
     "output_type": "execute_result"
    }
   ],
   "source": [
    "df2 = df.groupby('user_rating').mean()\n",
    "df2"
   ]
  },
  {
   "cell_type": "markdown",
   "metadata": {},
   "source": [
    "Based on the data in df2, we can create a model to predict future data points. "
   ]
  },
  {
   "cell_type": "code",
   "execution_count": 28,
   "metadata": {},
   "outputs": [
    {
     "data": {
      "text/plain": [
       "(4.7822995472830661, -3.4447276537063569)"
      ]
     },
     "execution_count": 28,
     "metadata": {},
     "output_type": "execute_result"
    }
   ],
   "source": [
    "#1 degree linear model\n",
    "a1,b1 = np.polyfit(df2['app_store_price (USD)'], df2.index, 1)\n",
    "a1, b1"
   ]
  },
  {
   "cell_type": "markdown",
   "metadata": {},
   "source": [
    "a1 (4.7823) represents the slope (m) in a standard line equation of y = m * x + b. b1 (-3.4447) represents the y-intercept (b) of the same equation. We can use these points to graph a line that "
   ]
  },
  {
   "cell_type": "code",
   "execution_count": 48,
   "metadata": {},
   "outputs": [
    {
     "data": {
      "image/png": "[encoded data removed]",
      "text/plain": [
       "<Figure size 576x432 with 1 Axes>"
      ]
     },
     "metadata": {
      "needs_background": "light"
     },
     "output_type": "display_data"
    }
   ],
   "source": [
    "plt.figure(figsize=(8,6))\n",
    "plt.scatter(df2['app_store_price (USD)'], df2.index, label='Data')\n",
    "\n",
    "xs = df2['app_store_price (USD)']\n",
    "ys = 4.7823 * xs - 3.4447\n",
    "plt.plot(xs, ys, '--k', linewidth=4, label='Model')\n",
    "\n",
    "plt.xlabel('Average Price (USD)')\n",
    "plt.ylabel('Rating')\n",
    "plt.title('Price vs Rating')\n",
    "plt.legend()\n",
    "plt.show()"
   ]
  },
  {
   "cell_type": "markdown",
   "metadata": {},
   "source": [
    "The dataset for this project contains nonparametric statistics, so normal statistical tests cannot be used. The Ratings variable is an ordinal number, meaning that there is a meaning to the way the numbers are ranked. A 1.0 rating, for example, is much worse than 5.0 rating. Because of this nonparametric quality, we will use the Mann-Whitney U test to analyze the data. Unlike most statistical tests, this one does not require that the data have a normal distribution. The Mann-Whitney U test compares the distribution of two groups and determines whether they are equal or not."
   ]
  },
  {
   "cell_type": "code",
   "execution_count": 30,
   "metadata": {},
   "outputs": [],
   "source": [
    "# Set up a helper function for checking p-values against an alpha level, and printing result\n",
    "alpha = 0.05\n",
    "\n",
    "def check_test(p_val, alpha):\n",
    "    if p_val > alpha:\n",
    "        print('Same distribution (fail to reject H0)')\n",
    "    else:\n",
    "        print('Different distribution (reject H0)')"
   ]
  },
  {
   "cell_type": "code",
   "execution_count": 31,
   "metadata": {},
   "outputs": [
    {
     "data": {
      "text/plain": [
       "(11.0, 0.0052221355506851131)"
      ]
     },
     "execution_count": 31,
     "metadata": {},
     "output_type": "execute_result"
    }
   ],
   "source": [
    "# Using Mann-Whitney U test to check difference between distributions\n",
    "MW_stat, MW_p_val = stats.mannwhitneyu(df2.index, df2['app_store_price (USD)'])\n",
    "MW_stat, MW_p_val"
   ]
  },
  {
   "cell_type": "code",
   "execution_count": 32,
   "metadata": {},
   "outputs": [
    {
     "name": "stdout",
     "output_type": "stream",
     "text": [
      "Different distribution (reject H0)\n"
     ]
    }
   ],
   "source": [
    "# Check p-value of Mann-Whitney U test\n",
    "check_test(MW_p_val, alpha)"
   ]
  },
  {
   "cell_type": "markdown",
   "metadata": {},
   "source": [
    "Using the Mann-Whitney U test, we find that the p-value of the test is 0.00522. We then compare the p-value with the standard alpha of 0.05 and see that the p-value is smaller than the alpha, and we can reject the null hypothesis. This means that there is statistical evidence to show that there is a difference between the distributions.\n",
    "\n",
    "Another test that can be used for nonparametric statistics is the Kolgomorov-Smirnov test. This test compares the cumulative distributions between two groups. This test also has the same null and alternate hypotheses as the Mann-Whitney U test."
   ]
  },
  {
   "cell_type": "code",
   "execution_count": 33,
   "metadata": {},
   "outputs": [
    {
     "data": {
      "text/plain": [
       "(0.77777777777777779, 0.0034507242661324117)"
      ]
     },
     "execution_count": 33,
     "metadata": {},
     "output_type": "execute_result"
    }
   ],
   "source": [
    "# Using a two-sample Kolmogorov-Smirnov test to check difference in distribution\n",
    "KS_stat, KS_p_val = stats.ks_2samp(df2.index, df2['app_store_price (USD)'])\n",
    "KS_stat, KS_p_val"
   ]
  },
  {
   "cell_type": "code",
   "execution_count": 34,
   "metadata": {},
   "outputs": [
    {
     "name": "stdout",
     "output_type": "stream",
     "text": [
      "Different distribution (reject H0)\n"
     ]
    }
   ],
   "source": [
    "# Check p-value of Kolmogorov-Smirnov test\n",
    "check_test(KS_p_val, alpha)"
   ]
  },
  {
   "cell_type": "markdown",
   "metadata": {},
   "source": [
    "The Kolmogorov-Smirnov test gives us a p-value of 0.00345. This value is also smaller than the alpha of 0.05 therefore we can still reject the null hypothesis. There is only a ~0.35% chance that the data observed is based off of chance."
   ]
  },
  {
   "cell_type": "code",
   "execution_count": 35,
   "metadata": {},
   "outputs": [
    {
     "data": {
      "text/plain": [
       "(0.19180539209708666, 3.6505241928602135)"
      ]
     },
     "execution_count": 35,
     "metadata": {},
     "output_type": "execute_result"
    }
   ],
   "source": [
    "#1 degree linear model for Recreation Group\n",
    "a1,b1 = np.polyfit(df_group['app_store_price (USD)'], df_group['user_rating'], 1)\n",
    "a1, b1"
   ]
  },
  {
   "cell_type": "markdown",
   "metadata": {},
   "source": [
    "### Group data\n",
    "\n",
    "This analysis examines the effect of the genre (as previously sorted into groups) on app price and rating."
   ]
  },
  {
   "cell_type": "code",
   "execution_count": 36,
   "metadata": {},
   "outputs": [
    {
     "data": {
      "text/html": [
       "<div>\n",
       "<style scoped>\n",
       "    .dataframe tbody tr th:only-of-type {\n",
       "        vertical-align: middle;\n",
       "    }\n",
       "\n",
       "    .dataframe tbody tr th {\n",
       "        vertical-align: top;\n",
       "    }\n",
       "\n",
       "    .dataframe thead th {\n",
       "        text-align: right;\n",
       "    }\n",
       "</style>\n",
       "<table border=\"1\" class=\"dataframe\">\n",
       "  <thead>\n",
       "    <tr style=\"text-align: right;\">\n",
       "      <th></th>\n",
       "      <th>group</th>\n",
       "      <th>price_mean</th>\n",
       "      <th>rating_mean</th>\n",
       "    </tr>\n",
       "  </thead>\n",
       "  <tbody>\n",
       "    <tr>\n",
       "      <th>0</th>\n",
       "      <td>rec</td>\n",
       "      <td>1.362993</td>\n",
       "      <td>4.124351</td>\n",
       "    </tr>\n",
       "  </tbody>\n",
       "</table>\n",
       "</div>"
      ],
      "text/plain": [
       "  group  price_mean  rating_mean\n",
       "0   rec    1.362993     4.124351"
      ]
     },
     "execution_count": 36,
     "metadata": {},
     "output_type": "execute_result"
    }
   ],
   "source": [
    "#Take mean price and mean rating from Recreation dataframe\n",
    "rec_mean = pd.DataFrame({'group': 'rec',\n",
    "                        'price_mean': [df_rec[0]],\n",
    "                        'rating_mean': [df_rec[2]]})\n",
    "rec_mean"
   ]
  },
  {
   "cell_type": "code",
   "execution_count": 37,
   "metadata": {},
   "outputs": [
    {
     "data": {
      "text/html": [
       "<div>\n",
       "<style scoped>\n",
       "    .dataframe tbody tr th:only-of-type {\n",
       "        vertical-align: middle;\n",
       "    }\n",
       "\n",
       "    .dataframe tbody tr th {\n",
       "        vertical-align: top;\n",
       "    }\n",
       "\n",
       "    .dataframe thead th {\n",
       "        text-align: right;\n",
       "    }\n",
       "</style>\n",
       "<table border=\"1\" class=\"dataframe\">\n",
       "  <thead>\n",
       "    <tr style=\"text-align: right;\">\n",
       "      <th></th>\n",
       "      <th>group</th>\n",
       "      <th>price_mean</th>\n",
       "      <th>rating_mean</th>\n",
       "    </tr>\n",
       "  </thead>\n",
       "  <tbody>\n",
       "    <tr>\n",
       "      <th>0</th>\n",
       "      <td>utilities</td>\n",
       "      <td>1.911657</td>\n",
       "      <td>3.996548</td>\n",
       "    </tr>\n",
       "  </tbody>\n",
       "</table>\n",
       "</div>"
      ],
      "text/plain": [
       "       group  price_mean  rating_mean\n",
       "0  utilities    1.911657     3.996548"
      ]
     },
     "execution_count": 37,
     "metadata": {},
     "output_type": "execute_result"
    }
   ],
   "source": [
    "#Take mean price and mean rating from Utilities dataframe\n",
    "utilities_mean = pd.DataFrame({'group': 'utilities',\n",
    "                              'price_mean': [df_utilities[0]],\n",
    "                             'rating_mean': [df_utilities[2]]})\n",
    "\n",
    "utilities_mean"
   ]
  },
  {
   "cell_type": "code",
   "execution_count": 38,
   "metadata": {},
   "outputs": [
    {
     "data": {
      "text/html": [
       "<div>\n",
       "<style scoped>\n",
       "    .dataframe tbody tr th:only-of-type {\n",
       "        vertical-align: middle;\n",
       "    }\n",
       "\n",
       "    .dataframe tbody tr th {\n",
       "        vertical-align: top;\n",
       "    }\n",
       "\n",
       "    .dataframe thead th {\n",
       "        text-align: right;\n",
       "    }\n",
       "</style>\n",
       "<table border=\"1\" class=\"dataframe\">\n",
       "  <thead>\n",
       "    <tr style=\"text-align: right;\">\n",
       "      <th></th>\n",
       "      <th>group</th>\n",
       "      <th>price_mean</th>\n",
       "      <th>rating_mean</th>\n",
       "    </tr>\n",
       "  </thead>\n",
       "  <tbody>\n",
       "    <tr>\n",
       "      <th>0</th>\n",
       "      <td>life</td>\n",
       "      <td>1.169579</td>\n",
       "      <td>3.901294</td>\n",
       "    </tr>\n",
       "  </tbody>\n",
       "</table>\n",
       "</div>"
      ],
      "text/plain": [
       "  group  price_mean  rating_mean\n",
       "0  life    1.169579     3.901294"
      ]
     },
     "execution_count": 38,
     "metadata": {},
     "output_type": "execute_result"
    }
   ],
   "source": [
    "#Take mean price and mean rating from Lifestyle dataframe\n",
    "life_mean = pd.DataFrame({'group': 'life',\n",
    "                        'price_mean': [df_life[0]],\n",
    "                        'rating_mean': [df_life[2]]})\n",
    "\n",
    "life_mean"
   ]
  },
  {
   "cell_type": "code",
   "execution_count": 39,
   "metadata": {},
   "outputs": [
    {
     "data": {
      "text/html": [
       "<div>\n",
       "<style scoped>\n",
       "    .dataframe tbody tr th:only-of-type {\n",
       "        vertical-align: middle;\n",
       "    }\n",
       "\n",
       "    .dataframe tbody tr th {\n",
       "        vertical-align: top;\n",
       "    }\n",
       "\n",
       "    .dataframe thead th {\n",
       "        text-align: right;\n",
       "    }\n",
       "</style>\n",
       "<table border=\"1\" class=\"dataframe\">\n",
       "  <thead>\n",
       "    <tr style=\"text-align: right;\">\n",
       "      <th></th>\n",
       "      <th>group</th>\n",
       "      <th>price_mean</th>\n",
       "      <th>rating_mean</th>\n",
       "    </tr>\n",
       "  </thead>\n",
       "  <tbody>\n",
       "    <tr>\n",
       "      <th>0</th>\n",
       "      <td>info</td>\n",
       "      <td>2.242224</td>\n",
       "      <td>4.004082</td>\n",
       "    </tr>\n",
       "  </tbody>\n",
       "</table>\n",
       "</div>"
      ],
      "text/plain": [
       "  group  price_mean  rating_mean\n",
       "0  info    2.242224     4.004082"
      ]
     },
     "execution_count": 39,
     "metadata": {},
     "output_type": "execute_result"
    }
   ],
   "source": [
    "#Take mean price and mean rating from Information dataframe\n",
    "info_mean = pd.DataFrame({'group': 'info',\n",
    "                        'price_mean': [df_info[0]],\n",
    "                        'rating_mean': [df_info[2]]})\n",
    "\n",
    "info_mean"
   ]
  },
  {
   "cell_type": "code",
   "execution_count": 40,
   "metadata": {},
   "outputs": [
    {
     "data": {
      "text/html": [
       "<div>\n",
       "<style scoped>\n",
       "    .dataframe tbody tr th:only-of-type {\n",
       "        vertical-align: middle;\n",
       "    }\n",
       "\n",
       "    .dataframe tbody tr th {\n",
       "        vertical-align: top;\n",
       "    }\n",
       "\n",
       "    .dataframe thead th {\n",
       "        text-align: right;\n",
       "    }\n",
       "</style>\n",
       "<table border=\"1\" class=\"dataframe\">\n",
       "  <thead>\n",
       "    <tr style=\"text-align: right;\">\n",
       "      <th></th>\n",
       "      <th>group</th>\n",
       "      <th>price_mean</th>\n",
       "      <th>rating_mean</th>\n",
       "    </tr>\n",
       "  </thead>\n",
       "  <tbody>\n",
       "    <tr>\n",
       "      <th>0</th>\n",
       "      <td>trending</td>\n",
       "      <td>0.772139</td>\n",
       "      <td>3.656944</td>\n",
       "    </tr>\n",
       "  </tbody>\n",
       "</table>\n",
       "</div>"
      ],
      "text/plain": [
       "      group  price_mean  rating_mean\n",
       "0  trending    0.772139     3.656944"
      ]
     },
     "execution_count": 40,
     "metadata": {},
     "output_type": "execute_result"
    }
   ],
   "source": [
    "#Take mean price and mean rating from Trending dataframe\n",
    "trending_mean = pd.DataFrame({'group': 'trending',\n",
    "                              'price_mean': [df_trending[0]],\n",
    "                             'rating_mean': [df_trending[2]]})\n",
    "trending_mean"
   ]
  },
  {
   "cell_type": "code",
   "execution_count": 41,
   "metadata": {},
   "outputs": [],
   "source": [
    "#Sort group average dataframes into single dataframe with each category in its own row\n",
    "\n",
    "#group_mean = [rec_mean, utilities_mean, life_mean, info_mean, trending_mean]\n",
    "#group_mean = pd.concat(group_mean)\n",
    "\n",
    "#group_mean.set_index('group', inplace=True)\n",
    "\n",
    "#group_mean"
   ]
  },
  {
   "cell_type": "code",
   "execution_count": 47,
   "metadata": {},
   "outputs": [
    {
     "data": {
      "image/png": "[encoded data removed]",
      "text/plain": [
       "<Figure size 576x432 with 1 Axes>"
      ]
     },
     "metadata": {
      "needs_background": "light"
     },
     "output_type": "display_data"
    }
   ],
   "source": [
    "#Price vs. Rating scatter plot by group\n",
    "name = ['Information', 'Lifestyle', 'Trending', 'Recreation', 'Utilities']\n",
    "\n",
    "plt.figure(figsize=(8,6))\n",
    "plt.scatter(rec_mean['price_mean'], rec_mean['rating_mean'], label='Recreation')\n",
    "plt.scatter(utilities_mean['price_mean'], utilities_mean['rating_mean'], label='Utilities')\n",
    "plt.scatter(life_mean['price_mean'], life_mean['rating_mean'], label='Lifestyle')\n",
    "plt.scatter(info_mean['price_mean'], info_mean['rating_mean'], label='Information')\n",
    "plt.scatter(trending_mean['price_mean'], trending_mean['rating_mean'], label='Trending')\n",
    "\n",
    "xs = df_group['app_store_price (USD)']\n",
    "ys = 0.1918 * xs + 3.6505\n",
    "plt.plot(xs, ys, '--k', linewidth=4, label='Model')\n",
    "\n",
    "plt.xlabel('Average Price (USD)', fontsize = 14)\n",
    "plt.ylabel('Average Rating', fontsize = 14)\n",
    "plt.title('Group Price vs Rating', fontsize = 16)\n",
    "plt.legend()\n",
    "plt.show()"
   ]
  },
  {
   "cell_type": "markdown",
   "metadata": {},
   "source": [
    "#### Interpretation of graph above:\n",
    "\n",
    "This distribution shows the average price plotted against the average rating for each category. A trendline shows an upwards distribution of the data. However, it is important to note that the ratings scale contains ordinal data. This graph shows that categories with higher average prices, such as Information and Utilities, tend to have higher ratings. Less expensive groups, most notably Trending, have lower ratings. The group with the highest average rating, Recreation, had the median average price.\n",
    "\n",
    "Conclusions can be drawn regarding the type of app and its goals when determining average price. The type of application may also factor in to the rating it receives, not necessarily due to the quality or price of the app itself."
   ]
  },
  {
   "cell_type": "code",
   "execution_count": 43,
   "metadata": {},
   "outputs": [
    {
     "data": {
      "text/plain": [
       "(0.0, 0.0060928901776724064)"
      ]
     },
     "execution_count": 43,
     "metadata": {},
     "output_type": "execute_result"
    }
   ],
   "source": [
    "# Using Mann-Whitney U test to check difference between distributions of groups\n",
    "MW_group_stat, MW_group_p_val = stats.mannwhitneyu(df_group['app_store_price (USD)'], df_group['user_rating'])\n",
    "MW_group_stat, MW_group_p_val"
   ]
  },
  {
   "cell_type": "code",
   "execution_count": 44,
   "metadata": {},
   "outputs": [
    {
     "name": "stdout",
     "output_type": "stream",
     "text": [
      "Different distribution (reject H0)\n"
     ]
    }
   ],
   "source": [
    "# Check p-value of Mann-Whitney U test\n",
    "check_test(MW_group_p_val, alpha)"
   ]
  },
  {
   "cell_type": "code",
   "execution_count": 45,
   "metadata": {},
   "outputs": [
    {
     "data": {
      "text/plain": [
       "(1.0, 0.0037813540593701006)"
      ]
     },
     "execution_count": 45,
     "metadata": {},
     "output_type": "execute_result"
    }
   ],
   "source": [
    "# Using a two-sample Kolmogorov-Smirnov test to check difference in distribution\n",
    "KS_group_stat, KS_group_p_val = stats.ks_2samp(df_group['user_rating'], df_group['app_store_price (USD)'])\n",
    "KS_group_stat, KS_group_p_val"
   ]
  },
  {
   "cell_type": "code",
   "execution_count": 46,
   "metadata": {},
   "outputs": [
    {
     "name": "stdout",
     "output_type": "stream",
     "text": [
      "Different distribution (reject H0)\n"
     ]
    }
   ],
   "source": [
    "# Check p-value of Kolmogorov-Smirnov test\n",
    "check_test(KS_group_p_val, alpha)"
   ]
  },
  {
   "cell_type": "markdown",
   "metadata": {},
   "source": [
    "# Ethics & Privacy"
   ]
  },
  {
   "cell_type": "markdown",
   "metadata": {},
   "source": [
    "*Fill in your ethics & privacy discussion here*"
   ]
  },
  {
   "cell_type": "markdown",
   "metadata": {},
   "source": [
    "# Conclusion & Discussion"
   ]
  },
  {
   "cell_type": "markdown",
   "metadata": {},
   "source": [
    "*Fill in your discussion information here*"
   ]
  }
 ],
 "metadata": {
  "kernelspec": {
   "display_name": "Python 3",
   "language": "python",
   "name": "python3"
  },
  "language_info": {
   "codemirror_mode": {
    "name": "ipython",
    "version": 3
   },
   "file_extension": ".py",
   "mimetype": "text/x-python",
   "name": "python",
   "nbconvert_exporter": "python",
   "pygments_lexer": "ipython3",
   "version": "3.6.7"
  }
 },
 "nbformat": 4,
 "nbformat_minor": 2
}
